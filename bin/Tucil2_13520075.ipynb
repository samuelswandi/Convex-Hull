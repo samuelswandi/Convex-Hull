{
 "cells": [
  {
   "cell_type": "markdown",
   "metadata": {},
   "source": [
    "# Convex Hull Visualization Walkthrough\n",
    "## 13520075 - Samuel Christopher Swandi"
   ]
  },
  {
   "cell_type": "markdown",
   "metadata": {},
   "source": [
    "### Prerequisite"
   ]
  },
  {
   "cell_type": "code",
   "execution_count": 13,
   "metadata": {},
   "outputs": [],
   "source": [
    "import numpy as np\n",
    "import pandas as pd\n",
    "import matplotlib.pyplot as plt\n",
    "import math\n",
    "from sklearn import datasets\n",
    "import matplotlib.pyplot as plt"
   ]
  },
  {
   "cell_type": "markdown",
   "metadata": {},
   "source": [
    "### Choose dataset"
   ]
  },
  {
   "cell_type": "code",
   "execution_count": 14,
   "metadata": {},
   "outputs": [
    {
     "name": "stdout",
     "output_type": "stream",
     "text": [
      "Pililah dataset yang akan digunakan untuk visualisasi data: \n",
      "1 : iris\n",
      "2 : digits\n",
      "3 : wine\n",
      "4 : breast cancer\n",
      "You have selected dataset: wine\n"
     ]
    }
   ],
   "source": [
    "listDataset = [[\"iris\", datasets.load_iris()], [\"digits\", datasets.load_digits()], [\"wine\", datasets.load_wine()], [\"breast cancer\", datasets.load_breast_cancer()]]\n",
    "\n",
    "\n",
    "print(\"Pililah dataset yang akan digunakan untuk visualisasi data: \")\n",
    "for i in range(len(listDataset)):\n",
    "    print(f\"{i+1} : {listDataset[i][0]}\")\n",
    "\n",
    "choice = int(input(\"Choose your dataset: \"))\n",
    "\n",
    "while choice > len(listDataset) or choice < 1:\n",
    "    print(\"please choose your dataset correctly\")\n",
    "    choice = int(input(\"Choose your dataset: \"))\n",
    "\n",
    "print(\"You have selected dataset:\", listDataset[choice-1][0])\n",
    "\n",
    "data = listDataset[choice-1][1]\n",
    "df = pd.DataFrame(data.data, columns=data.feature_names)\n",
    "df['Target'] = pd.DataFrame(data.target)"
   ]
  },
  {
   "cell_type": "markdown",
   "metadata": {},
   "source": [
    "### Choose column to be classified to E^2 Plane"
   ]
  },
  {
   "cell_type": "code",
   "execution_count": 15,
   "metadata": {},
   "outputs": [
    {
     "name": "stdout",
     "output_type": "stream",
     "text": [
      "Choose two columns to be classified:\n",
      "1 : alcohol\n",
      "2 : malic_acid\n",
      "3 : ash\n",
      "4 : alcalinity_of_ash\n",
      "5 : magnesium\n",
      "6 : total_phenols\n",
      "7 : flavanoids\n",
      "8 : nonflavanoid_phenols\n",
      "9 : proanthocyanins\n",
      "10 : color_intensity\n",
      "11 : hue\n",
      "12 : od280/od315_of_diluted_wines\n",
      "13 : proline\n",
      "You have chosen first column: alcohol and second column: magnesium\n"
     ]
    }
   ],
   "source": [
    "print(\"Choose two columns to be classified:\")\n",
    "for i,v in enumerate(df.columns[0:len(df.columns)-1]):\n",
    "    print(f\"{i+1} : {v}\")\n",
    "\n",
    "firstColumnChoice = int(input(\"Choose first column: \"))\n",
    "\n",
    "while firstColumnChoice > len(df.columns)-1 or firstColumnChoice < 1:\n",
    "    print(\"please choose your first column correctly\")\n",
    "    firstColumnChoice = int(input(\"Choose first column: \"))\n",
    "\n",
    "secondColumnChoice = int(input(\"Choose second column: \"))\n",
    "\n",
    "while secondColumnChoice > len(df.columns)-1 or secondColumnChoice < 1 or secondColumnChoice == firstColumnChoice:\n",
    "    print(\"please choose your second column correctly\")\n",
    "    secondColumnChoice = int(input(\"Choose second column: \"))\n",
    "\n",
    "print(\"You have chosen first column:\", df.columns[firstColumnChoice-1], \"and second column:\", df.columns[secondColumnChoice-1])\n"
   ]
  },
  {
   "cell_type": "markdown",
   "metadata": {},
   "source": [
    "## Convex Hull Algorithm Implementation"
   ]
  },
  {
   "cell_type": "markdown",
   "metadata": {},
   "source": [
    "#### Helper Function"
   ]
  },
  {
   "cell_type": "code",
   "execution_count": 16,
   "metadata": {},
   "outputs": [],
   "source": [
    "# mencari titik terjauh dari line, dengan tipe \"above\" atau \"below\", yang berarti di atas garis atau di bawah garis\n",
    "def searchForTheFurthestPointOf(type, line, points):\n",
    "    \n",
    "    # index titik terjauh pada points(2d array yang berisi kumpulan semua data)\n",
    "    furthestPoint = 0\n",
    "\n",
    "    # menghitung jarak terjauh dari titik ke garis\n",
    "    furthestDistance = -9999999\n",
    "\n",
    "    # untuk memenuhi parameter yang dibutuhkan oleh fungsi searchForArray\n",
    "    lines = line\n",
    "\n",
    "    # untuk mempermudah dalam pencarian x1,x2,y1, dan y2 \n",
    "    # yang nantinya akan digunakan untuk menghitung jarak terjauh\n",
    "    line = [points[line[0]], points[line[1]]]\n",
    "    x1 = line[0][0]\n",
    "    x2 = line[1][0]\n",
    "    y1 = line[0][1]\n",
    "    y2 = line[1][1]\n",
    "    a = y2 - y1\n",
    "    b = x1 - x2\n",
    "    c = x2*y1 - x1*y2\n",
    "\n",
    "    if type == \"Above\":\n",
    "        # mencari seluruh titik yang berada di atas garis\n",
    "        arrayAbove = searchForArray(\"Above\", lines, points)\n",
    "\n",
    "        # jika tidak ada titik yang berada di atas garis, maka return None\n",
    "        if arrayAbove == []:\n",
    "            return None\n",
    "\n",
    "        # jika ada, maka mencari titik dengan jarak terjauh dari garis\n",
    "        for i in arrayAbove:\n",
    "            x = points[i][0]\n",
    "            y = points[i][1]\n",
    "            distance = abs(a*x + b*y + c) / math.sqrt(a**2 + b**2)\n",
    "            if distance > furthestDistance:\n",
    "                furthestDistance = distance\n",
    "                furthestPoint = i\n",
    "\n",
    "    if type == \"Below\":\n",
    "        # mencari seluruh titik yang berada di bawah garis\n",
    "        arrayBelow = searchForArray(\"Below\", lines, points)\n",
    "\n",
    "        # jika tidak ada titik yang berada di bawah garis, maka return None\n",
    "        if arrayBelow == []:\n",
    "            return None\n",
    "\n",
    "        # jika ada, maka mencari titik dengan jarak terjauh dari garis\n",
    "        for i in arrayBelow:\n",
    "            x = points[i][0]\n",
    "            y = points[i][1]\n",
    "            distance = abs(a*x + b*y + c) / math.sqrt(a**2 + b**2)\n",
    "            if distance > furthestDistance:\n",
    "                furthestDistance = distance\n",
    "                furthestPoint = i\n",
    "\n",
    "    return furthestPoint\n",
    "\n",
    "\n",
    "# mencari orientasi sebuah titik dengan garis\n",
    "def orientation(p,q,r):\n",
    "    # jika > 0, titik tersebut di atas garis\n",
    "    # jika < 0, titik tersebut di bawah garis\n",
    "    # jika = 0, titik berada pada garis\n",
    "    # p dan q membentuk sebuah garis dan r merupakan titik yang akan di cek\n",
    "    x1 = p[0]\n",
    "    x2 = q[0]\n",
    "    x3 = r[0]\n",
    "    y1 = p[1]\n",
    "    y2 = q[1]\n",
    "    y3 = r[1]\n",
    "    return math.ceil(x1*y2 + x3*y1 + x2*y3 - x3*y2 - x1*y3 - x2*y1)\n",
    "\n",
    "\n",
    "# mencari seluruh titik yang berada di atas garis\n",
    "# sesuai dengan tipe \"above\" atau \"below\"\n",
    "def searchForArray(type, line, points):\n",
    "    ans = []\n",
    "    if type == \"Above\":\n",
    "        for i in range(len(points)):\n",
    "            # mengecek apakah titik tersebut merupakan garisnya\n",
    "            if (i != line[0] and i != line[1]):\n",
    "                # jika titik tersebut ada di atas garis, maka akan di append ke array anser\n",
    "                if orientation(points[line[0]], points[line[1]], points[i]) > 0:\n",
    "                    ans.append(i)\n",
    "\n",
    "    if type == \"Below\":\n",
    "        for i in range(len(points)):\n",
    "            # mengecek apakah titik tersebut merupakan garisnya\n",
    "            if (i != line[0] and i != line[1]):\n",
    "                # jika titik tersebut ada di bawah garis, maka akan di append ke array anser\n",
    "                if orientation(points[line[0]], points[line[1]], points[i]) <= 0:\n",
    "                    ans.append(i)\n",
    "\n",
    "    return ans"
   ]
  },
  {
   "cell_type": "markdown",
   "metadata": {},
   "source": [
    "#### Main divide and conquer algorithm"
   ]
  },
  {
   "cell_type": "code",
   "execution_count": 17,
   "metadata": {},
   "outputs": [],
   "source": [
    "\n",
    "\n",
    "# rekursi convexhull\n",
    "def dnqConvexHull(points, leftmost, rightmost, flag):\n",
    "    # list of hull points\n",
    "    hull = []\n",
    "\n",
    "    # garis yang terbuat dari titik paling kiri dan kanan dari set of points yang diberikan\n",
    "    line = [leftmost, rightmost]\n",
    "\n",
    "    # untuk menentukan orientasi points yang ingin dipilih\n",
    "    # apakah di atas atau di bawah garis\n",
    "    # flag == True berrarti di atas garis\n",
    "\n",
    "    if flag:\n",
    "        # mencari titik terjauh di atas garis\n",
    "        furthestPointAbove = searchForTheFurthestPointOf(\"Above\", line, points)\n",
    "\n",
    "        # jika tidak ada titik terjauh di atas garis, maka return titik paling kiri dan paling kanan pembentuk garis\n",
    "        if furthestPointAbove == None:\n",
    "            return [leftmost, rightmost]\n",
    "\n",
    "        # return convexhull dari titik kiri pembuat garis dan titik terjauh dari garis dan\n",
    "        # titik terjauh di atas garis dan titik kanan dari pembuat garis\n",
    "        return dnqConvexHull(points, leftmost, furthestPointAbove, True) + dnqConvexHull(points, furthestPointAbove, rightmost, True)\n",
    "\n",
    "    else :\n",
    "        # mencari titik terjauh di atas garis\n",
    "        furthestPointBelow = searchForTheFurthestPointOf(\"Below\", line, points)\n",
    "\n",
    "        # jika tidak ada titik terjauh di bawah garis, maka return titik paling kiri dan paling kanan pembentuk garis\n",
    "        if furthestPointBelow == None:\n",
    "            return [leftmost,rightmost]\n",
    "\n",
    "        # return convexhull dari titik kiri pembuat garis dan titik terjauh dari garis dan\n",
    "        # titik terjauh di atas garis dan titik kanan dari pembuat garis\n",
    "        return dnqConvexHull(points, leftmost, furthestPointBelow, False) + dnqConvexHull(points, furthestPointBelow, rightmost, False)\n",
    "\n",
    "    # menambahkan hasil kedalam hull untuk di return\n",
    "    hull.append(leftmost)\n",
    "    hull.append(rightmost)\n",
    "    return hull\n",
    "\n",
    "\n",
    "def myConvexHull(points):\n",
    "    hull = []\n",
    "    mn = [float('inf'),0]\n",
    "    mx = [-999999,0]\n",
    "\n",
    "    # mencari titik paling kiri dan kanan yang nantinya akan digunakan untuk menjadi garis\n",
    "    # yang akan dimanfaatkan untuk titik2 yang berada di atas dan di bawah garis\n",
    "    leftmost = 0\n",
    "    rightmost = 0\n",
    "    for i in range(len(buckets)):\n",
    "        if buckets[i][0] < mn[0]:\n",
    "            mn[0] = buckets[i][0]\n",
    "            mn[1] = buckets[i][1]\n",
    "            leftmost = i\n",
    "        if buckets[i][0] > mx[0]:\n",
    "            mx[0] = buckets[i][0]\n",
    "            mx[1] = buckets[i][1]\n",
    "            rightmost = i\n",
    "    \n",
    "    # mencari seluruh convexhull yang berada di atas garis yang dibuat oleh leftmost dan rightmost\n",
    "    up = dnqConvexHull(points, leftmost, rightmost, True)\n",
    "\n",
    "    # mencari seluruh convexhull yang berada di bawah garis yang dibuat oleh leftmost dan rightmost\n",
    "    down = dnqConvexHull(points, leftmost, rightmost, False)\n",
    "\n",
    "    # keduanya akan ditambahkan kedalam hull dan akan di return\n",
    "    # mengapa down harus dibalik?\n",
    "    # karena orientasi dari down adalah kiri ke kanan, dan orientasi dari up adalam kiri ke kanan juga\n",
    "    # maka akan terjadi kesalahan yaitu terhubungnya titik terjauh paling kiri dan titik terjauh paling kanan\n",
    "    # misal:\n",
    "    # up -> kanan ke kiri -> mencapai ujung kanan convexhull\n",
    "    # down -> kanan ke kiri -> mencapai ujung kanan convexhull\n",
    "    # karena up dan down dihubungkan saat up mencapai ujung kanan dan down ada di ujung kiri, maka akan ada garis yang menghubungkan \n",
    "    # ujung kanan dan ujung kiri convexhull\n",
    "\n",
    "    # maka down haruslah diputar agar sesuai orientasi yaitu \n",
    "    # up -> kanan ke kiri -> mencapai ujung kanan convexhull \n",
    "    # down -> kiri ke kanan -> kembali lagi ke ujung kiri convexhull\n",
    "    # sehingga orientasi yang terjadi benar\n",
    "    hull = up + down[::-1]\n",
    "    return hull\n"
   ]
  },
  {
   "cell_type": "markdown",
   "metadata": {},
   "source": [
    "## Main visualization program"
   ]
  },
  {
   "cell_type": "code",
   "execution_count": 18,
   "metadata": {},
   "outputs": [
    {
     "data": {
      "text/plain": [
       "<matplotlib.legend.Legend at 0x7fb3c29ea550>"
      ]
     },
     "execution_count": 18,
     "metadata": {},
     "output_type": "execute_result"
    },
    {
     "data": {
      "image/png": "[encoded data removed]",
      "text/plain": [
       "<Figure size 720x432 with 1 Axes>"
      ]
     },
     "metadata": {
      "needs_background": "light"
     },
     "output_type": "display_data"
    }
   ],
   "source": [
    "plt.figure(figsize = (10, 6))\n",
    "colors = ['b','r','g','c','m','y','k']\n",
    "plt.title(f\"Convex Hull of {df.columns[firstColumnChoice-1]} vs {df.columns[secondColumnChoice-1]}\")\n",
    "plt.xlabel(data.feature_names[0])\n",
    "plt.ylabel(data.feature_names[1])\n",
    "for j in range(len(data.target_names)):\n",
    "    bucket = df[df['Target'] == j]\n",
    "    buckets = bucket.iloc[:,[firstColumnChoice-1,secondColumnChoice-1]].values\n",
    "    plt.scatter(buckets[:,0], buckets[:,1], label = data.target_names[j], color = colors[j])\n",
    "    hull = list(myConvexHull(buckets))\n",
    "    for i in range(len(hull)-1):\n",
    "        x = [buckets[hull[i]][0], buckets[hull[i+1]][0]]\n",
    "        y = [buckets[hull[i]][1], buckets[hull[i+1]][1]]\n",
    "        plt.plot(x, y, colors[j])\n",
    "plt.legend()"
   ]
  }
 ],
 "metadata": {
  "interpreter": {
   "hash": "31f2aee4e71d21fbe5cf8b01ff0e069b9275f58929596ceb00d14d90e3e16cd6"
  },
  "kernelspec": {
   "display_name": "Python 3.8.10 64-bit",
   "language": "python",
   "name": "python3"
  },
  "language_info": {
   "codemirror_mode": {
    "name": "ipython",
    "version": 3
   },
   "file_extension": ".py",
   "mimetype": "text/x-python",
   "name": "python",
   "nbconvert_exporter": "python",
   "pygments_lexer": "ipython3",
   "version": "3.8.10"
  },
  "orig_nbformat": 4
 },
 "nbformat": 4,
 "nbformat_minor": 2
}
